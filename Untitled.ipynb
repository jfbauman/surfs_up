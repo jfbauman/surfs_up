{
 "cells": [
  {
   "cell_type": "code",
   "execution_count": 1,
   "id": "6cbc4acd",
   "metadata": {},
   "outputs": [
    {
     "name": "stdout",
     "output_type": "stream",
     "text": [
      "Requirement already satisfied: flask in c:\\users\\jbaum\\anaconda3\\envs\\pythondata\\lib\\site-packages (2.0.3)\n",
      "Requirement already satisfied: click>=7.1.2 in c:\\users\\jbaum\\anaconda3\\envs\\pythondata\\lib\\site-packages (from flask) (8.0.4)\n",
      "Requirement already satisfied: itsdangerous>=2.0 in c:\\users\\jbaum\\anaconda3\\envs\\pythondata\\lib\\site-packages (from flask) (2.0.1)\n",
      "Requirement already satisfied: Jinja2>=3.0 in c:\\users\\jbaum\\anaconda3\\envs\\pythondata\\lib\\site-packages (from flask) (3.0.3)\n",
      "Requirement already satisfied: Werkzeug>=2.0 in c:\\users\\jbaum\\anaconda3\\envs\\pythondata\\lib\\site-packages (from flask) (2.0.3)\n",
      "Requirement already satisfied: importlib-metadata in c:\\users\\jbaum\\anaconda3\\envs\\pythondata\\lib\\site-packages (from click>=7.1.2->flask) (4.8.3)\n",
      "Requirement already satisfied: colorama in c:\\users\\jbaum\\anaconda3\\envs\\pythondata\\lib\\site-packages (from click>=7.1.2->flask) (0.4.5)\n",
      "Requirement already satisfied: MarkupSafe>=2.0 in c:\\users\\jbaum\\anaconda3\\envs\\pythondata\\lib\\site-packages (from Jinja2>=3.0->flask) (2.0.1)\n",
      "Requirement already satisfied: dataclasses in c:\\users\\jbaum\\anaconda3\\envs\\pythondata\\lib\\site-packages (from Werkzeug>=2.0->flask) (0.8)\n",
      "Requirement already satisfied: zipp>=0.5 in c:\\users\\jbaum\\anaconda3\\envs\\pythondata\\lib\\site-packages (from importlib-metadata->click>=7.1.2->flask) (3.6.0)\n",
      "Requirement already satisfied: typing-extensions>=3.6.4 in c:\\users\\jbaum\\anaconda3\\envs\\pythondata\\lib\\site-packages (from importlib-metadata->click>=7.1.2->flask) (4.1.1)\n",
      "Note: you may need to restart the kernel to use updated packages.\n"
     ]
    }
   ],
   "source": [
    "# 9.4.3. Set up Flask and Create a Route \n",
    "pip install flask"
   ]
  },
  {
   "cell_type": "code",
   "execution_count": 3,
   "id": "0eb78b1f",
   "metadata": {},
   "outputs": [],
   "source": [
    "from flask import Flask\n",
    "# Create a New Flask App Instance\n",
    "app = Flask(__name__)\n",
    "# Create Flask Routes\n",
    "@app.route('/')\n",
    "def hello_world():\n",
    "    return 'Hello world'"
   ]
  },
  {
   "cell_type": "code",
   "execution_count": 5,
   "id": "6fa1886f",
   "metadata": {},
   "outputs": [
    {
     "ename": "SyntaxError",
     "evalue": "invalid syntax (<ipython-input-5-bdfb760155d3>, line 2)",
     "output_type": "error",
     "traceback": [
      "\u001b[1;36m  File \u001b[1;32m\"<ipython-input-5-bdfb760155d3>\"\u001b[1;36m, line \u001b[1;32m2\u001b[0m\n\u001b[1;33m    export FLASK_APP=app.py\u001b[0m\n\u001b[1;37m                   ^\u001b[0m\n\u001b[1;31mSyntaxError\u001b[0m\u001b[1;31m:\u001b[0m invalid syntax\n"
     ]
    }
   ],
   "source": [
    "# Run a Flask App\n",
    "export FLASK_APP=app.py\n",
    "set FLASK_APP=app.py\n",
    "flask run"
   ]
  },
  {
   "cell_type": "code",
   "execution_count": null,
   "id": "bed28eef",
   "metadata": {},
   "outputs": [],
   "source": []
  }
 ],
 "metadata": {
  "kernelspec": {
   "display_name": "PythonData",
   "language": "python",
   "name": "pythondata"
  },
  "language_info": {
   "codemirror_mode": {
    "name": "ipython",
    "version": 3
   },
   "file_extension": ".py",
   "mimetype": "text/x-python",
   "name": "python",
   "nbconvert_exporter": "python",
   "pygments_lexer": "ipython3",
   "version": "3.6.13"
  }
 },
 "nbformat": 4,
 "nbformat_minor": 5
}
