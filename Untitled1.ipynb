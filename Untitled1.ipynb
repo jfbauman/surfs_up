{
 "cells": [
  {
   "cell_type": "code",
   "execution_count": 2,
   "id": "d07a5866",
   "metadata": {},
   "outputs": [],
   "source": [
    "# 9.4.3. Set up Flask and Create a Route \n",
    "# Import the Flask dependency\n",
    "from flask import Flask"
   ]
  },
  {
   "cell_type": "code",
   "execution_count": 3,
   "id": "31799731",
   "metadata": {},
   "outputs": [],
   "source": [
    "# Create a new Flask App Instance\n",
    "app = Flask(__name__)"
   ]
  },
  {
   "cell_type": "code",
   "execution_count": 5,
   "id": "23c57f6f",
   "metadata": {},
   "outputs": [],
   "source": [
    "# Create Flask Routes \n",
    "@app.route('/')\n",
    "def hello_world():\n",
    "    return 'Hello world'"
   ]
  },
  {
   "cell_type": "code",
   "execution_count": 8,
   "id": "7db55f91",
   "metadata": {},
   "outputs": [
    {
     "ename": "SyntaxError",
     "evalue": "invalid syntax (<ipython-input-8-2b94ae8bfd94>, line 2)",
     "output_type": "error",
     "traceback": [
      "\u001b[1;36m  File \u001b[1;32m\"<ipython-input-8-2b94ae8bfd94>\"\u001b[1;36m, line \u001b[1;32m2\u001b[0m\n\u001b[1;33m    export FLASK_APP =app.py\u001b[0m\n\u001b[1;37m                   ^\u001b[0m\n\u001b[1;31mSyntaxError\u001b[0m\u001b[1;31m:\u001b[0m invalid syntax\n"
     ]
    }
   ],
   "source": [
    "# Run a Flask App\n",
    "export FLASK_APP=app.py\n",
    "flask run \n"
   ]
  },
  {
   "cell_type": "code",
   "execution_count": null,
   "id": "dceef4f7",
   "metadata": {},
   "outputs": [],
   "source": []
  }
 ],
 "metadata": {
  "kernelspec": {
   "display_name": "PythonData",
   "language": "python",
   "name": "pythondata"
  },
  "language_info": {
   "codemirror_mode": {
    "name": "ipython",
    "version": 3
   },
   "file_extension": ".py",
   "mimetype": "text/x-python",
   "name": "python",
   "nbconvert_exporter": "python",
   "pygments_lexer": "ipython3",
   "version": "3.6.13"
  }
 },
 "nbformat": 4,
 "nbformat_minor": 5
}
